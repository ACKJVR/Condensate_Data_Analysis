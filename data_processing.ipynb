{
 "cells": [
  {
   "cell_type": "code",
   "execution_count": 1,
   "metadata": {},
   "outputs": [],
   "source": [
    "import numpy as np\n",
    "import pandas as pd\n",
    "from matplotlib import pyplot as plt\n",
    "from pathlib import Path\n",
    "import math\n",
    "import re"
   ]
  },
  {
   "cell_type": "code",
   "execution_count": 106,
   "metadata": {},
   "outputs": [],
   "source": [
    "file = 'Figure_3b_data.xlsx'\n",
    "excel_data = pd.read_excel(file)\n",
    "pressure_data = pd.DataFrame(excel_data,columns=['Time(s).1','Pressure(Pa)']).dropna().values\n",
    "exper_data = pd.DataFrame(excel_data,columns=['Time(s)','Lp/Rp']).dropna().values\n"
   ]
  },
  {
   "cell_type": "code",
   "execution_count": 107,
   "metadata": {},
   "outputs": [],
   "source": [
    "pressure_change_index = np.where(pressure_data[1:,1] != pressure_data[:-1,1])[0]\n",
    "pressure_change_index = np.append(0,pressure_change_index)\n",
    "pressure_change_index = np.append(pressure_change_index,len(pressure_data)-1)\n",
    "long_dp_index = np.where(pressure_change_index[1:] - pressure_change_index[:-1]>10)[0]\n",
    "start_index = pressure_change_index[long_dp_index]+1\n",
    "end_index = pressure_change_index[long_dp_index+1]+1\n",
    "pressure_ref=pressure_data[start_index]\n",
    "ref_pressure = 0\n",
    "pressure_ref = np.append(0,pressure_ref[:,1]+ref_pressure)\n",
    "delta_P=pressure_ref[1:]-pressure_ref[:-1]"
   ]
  },
  {
   "cell_type": "code",
   "execution_count": 108,
   "metadata": {},
   "outputs": [],
   "source": [
    "file_path = Path('data_files/fig_3b')\n",
    "Path.mkdir(file_path,exist_ok=True)\n",
    "file_idx = 0\n",
    "for i,j,dP in zip(start_index,end_index,delta_P):\n",
    "    if dP:\n",
    "        data_slice = exper_data[i+1:j,:]\n",
    "        # header_txt = file + '\\n Pressure (Pa):\\n'+ str(pressure_data[i,1]) + '\\n Delta Pressure (Pa):\\n' + str(dP) + '\\nt,L(t)'\n",
    "        header_txt = 'file name\\n' + file + '\\npressure\\n'+ \"{:.1f}\".format(pressure_data[i,1]) + '\\ndelta pressure\\n' + \"{:.1f}\".format(dP) + '\\ncondensate\\nRGG\\nstate\\nwetting'\n",
    "        out_path = file_path/('seg_' + str(file_idx) + '.dat')\n",
    "        file_idx = file_idx + 1\n",
    "        np.savetxt(out_path,data_slice,delimiter=',',header=header_txt,fmt=['%d','%.3f'])"
   ]
  },
  {
   "cell_type": "code",
   "execution_count": 47,
   "metadata": {},
   "outputs": [],
   "source": [
    "def find_nearest(array,value):\n",
    "    idx = np.searchsorted(array, value, side=\"left\")\n",
    "    if idx > 0 and (idx == len(array) or math.fabs(value - array[idx-1]) < math.fabs(value - array[idx])):\n",
    "        return idx-1\n",
    "    else:\n",
    "        return idx"
   ]
  },
  {
   "cell_type": "code",
   "execution_count": 99,
   "metadata": {},
   "outputs": [],
   "source": [
    "file = 'oil-aspiration/102122-5.xlsx'\n",
    "excel_data = pd.read_excel(file)\n",
    "pressure_data = pd.DataFrame(excel_data,columns=['Time(s).1','Pressure(Pa)']).dropna().values\n",
    "# pressure_data = pd.DataFrame(excel_data,columns=['Time.1','Pressure']).dropna().values\n",
    "\n",
    "file_path = Path('data_files/oil_11')\n",
    "Path.mkdir(file_path,exist_ok=True)\n",
    "traj_data = excel_data.drop(columns=[\"Time(s)\",\"Lp/Rp\",\"Time(s).1\",\"Pressure(Pa)\"])\n",
    "# traj_data = excel_data.drop(columns=['Time(s)','Pressure (Pa)'])\n",
    "# traj_data = excel_data.drop(columns=[\"Time\",\"Lp/Rp\",\"Time.1\",\"Pressure (Pa)\"])\n",
    "time_series_count = int(traj_data.columns.size/2)\n",
    "pressure_ref = np.array([pressure_data[0,1]])\n",
    "for i in range(0,time_series_count):\n",
    "    time_data = np.array(traj_data.iloc[:,2*i].dropna().values)\n",
    "    lp_data = np.array(traj_data.iloc[:,2*i+1].dropna().values)\n",
    "    start_time = time_data[0]\n",
    "    end_time = time_data[-1]\n",
    "\n",
    "    pressure_start_idx = find_nearest(pressure_data[:,0],start_time)\n",
    "    pressure_end_idx = find_nearest(pressure_data[:,0],end_time)\n",
    "    avg_pressure = np.mean(pressure_data[pressure_start_idx:pressure_end_idx,1])\n",
    "    dP = avg_pressure - pressure_ref[-1]\n",
    "    pressure_ref = np.append(pressure_ref,np.array([avg_pressure]))\n",
    "    data_slice = np.stack((time_data,lp_data),axis=1)\n",
    "    # header_txt = 'file name\\n' + file + '\\npressure\\n'+ \"{:.1f}\".format(avg_pressure) + '\\ndelta pressure\\n' + \"{:.1f}\".format(dP) + '\\ncondensate\\nSynapsin\\nstate\\nwetting'\n",
    "    huan_comment = 'High Viscosity oil aspiration Pipette filled with ethanol'\n",
    "    state = 'nonwetting'\n",
    "    pipette_fill = 'ethanol'\n",
    "    solvent = 'ethanol'\n",
    "    lubricating_ethanol = 'false'\n",
    "    header_txt = 'file name\\n' + file + '\\npressure\\n'+ \"{:.1f}\".format(avg_pressure) + '\\ndelta pressure\\n' + \"{:.1f}\".format(dP) + '\\nhuan comment\\n' + huan_comment + '\\nstate\\n' + state + '\\npipette fill\\n' + pipette_fill + '\\nsolvent\\n'+solvent + '\\nlubricating ethanol\\n'+ lubricating_ethanol \n",
    "    out_path = file_path/('seg_' + str(i) + '.dat')\n",
    "    np.savetxt(out_path,data_slice,delimiter=',',header=header_txt,fmt=['%.2f','%.3f'])\n",
    "\n",
    "\n"
   ]
  },
  {
   "cell_type": "code",
   "execution_count": 17,
   "metadata": {},
   "outputs": [],
   "source": [
    "dp_times=[]\n",
    "pattern = re.compile(\"Fitted linear_X(\\d?\\d?)\")\n",
    "for column in excel_data.columns:\n",
    "    form_match = pattern.match(column)\n",
    "    if form_match:\n",
    "        dp_times.append(excel_data[column].iloc[0])"
   ]
  }
 ],
 "metadata": {
  "kernelspec": {
   "display_name": "base",
   "language": "python",
   "name": "python3"
  },
  "language_info": {
   "codemirror_mode": {
    "name": "ipython",
    "version": 3
   },
   "file_extension": ".py",
   "mimetype": "text/x-python",
   "name": "python",
   "nbconvert_exporter": "python",
   "pygments_lexer": "ipython3",
   "version": "3.9.15"
  },
  "orig_nbformat": 4,
  "vscode": {
   "interpreter": {
    "hash": "40d3a090f54c6569ab1632332b64b2c03c39dcf918b08424e98f38b5ae0af88f"
   }
  }
 },
 "nbformat": 4,
 "nbformat_minor": 2
}
