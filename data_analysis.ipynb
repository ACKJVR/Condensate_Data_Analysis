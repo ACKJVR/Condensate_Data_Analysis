{
 "cells": [
  {
   "cell_type": "code",
   "execution_count": 1,
   "metadata": {},
   "outputs": [],
   "source": [
    "import numpy as np\n",
    "from matplotlib import pyplot as plt\n",
    "from pathlib import Path\n",
    "import scipy.optimize as spo\n",
    "import math\n",
    "from abc import ABC\n",
    "import natsort\n",
    "from src import model\n",
    "from src import segment"
   ]
  },
  {
   "cell_type": "code",
   "execution_count": 152,
   "metadata": {},
   "outputs": [],
   "source": [
    "data_path = Path(\"data_files\")\n",
    "data_folders = [file for file in data_path.iterdir()]\n",
    "data_folders = natsort.natsorted(data_folders)\n",
    "test_folder = data_folders[4]\n",
    "file = test_folder/'seg_1.dat'"
   ]
  },
  {
   "cell_type": "code",
   "execution_count": 59,
   "metadata": {},
   "outputs": [],
   "source": [
    "class experimental_segment():\n",
    "    def __init__(self,file) -> None:\n",
    "        self.parameter_dict = {}\n",
    "        self.__import_header__(file)\n",
    "\n",
    "        self.pressure = self.parameter_dict[\"pressure\"]\n",
    "        self.time_data, self.x_data = np.hsplit(np.genfromtxt(file,delimiter=','),2)\n",
    "        self.time_data = self.time_data.flatten()\n",
    "        self.x_data = self.x_data.flatten()\n",
    "        self.t0 = self.time_data[0]\n",
    "        self.L0 = self.x_data[0]\n",
    "\n",
    "        if self.parameter_dict[\"delta pressure\"] > 0:\n",
    "            self.sign = \"pos\"\n",
    "        else: \n",
    "            self.sign = \"neg\"\n",
    "\n",
    "    def __import_header__(self,file):\n",
    "        with open(file) as f:\n",
    "            while True: \n",
    "                key = f.readline()\n",
    "                item = f.readline()\n",
    "\n",
    "                if key[0] == '#':\n",
    "                    key = key.strip('#').strip()\n",
    "                    item = item.strip('#').strip()\n",
    "                    if 'pressure' in key:\n",
    "                        item = float(item)\n",
    "                    self.parameter_dict[key]=item\n",
    "                else:\n",
    "                    break"
   ]
  },
  {
   "cell_type": "code",
   "execution_count": 60,
   "metadata": {},
   "outputs": [],
   "source": [
    "class experiment():\n",
    "    def __init__(self,dir): \n",
    "        seg_files = [file for file in dir.iterdir()]\n",
    "        seg_files = natsort.natsorted(seg_files)\n",
    "\n",
    "        self.data_dict = {\"pos\":[],\"neg\":[]}\n",
    "\n",
    "        for file in seg_files:\n",
    "            segment = experimental_segment(file)\n",
    "            self.data_dict[segment.sign].append(segment)\n",
    "        \n",
    "        if self.data_dict[\"pos\"]:\n",
    "            self.parameters = self.data_dict[\"pos\"][0].parameter_dict\n",
    "        else:\n",
    "             self.parameters = self.data_dict[\"neg\"][0].parameter_dict\n",
    "\n",
    "        self.parameters.pop(\"pressure\")\n",
    "        self.parameters.pop(\"delta pressure\")\n",
    "    \n",
    "    def "
   ]
  },
  {
   "cell_type": "code",
   "execution_count": 166,
   "metadata": {},
   "outputs": [],
   "source": [
    "test_seg = experimental_segment(file)\n",
    "test_model = model.wetting_model(test_seg)\n",
    "test_seg2 = experimental_segment(test_folder/'seg_2.dat')\n",
    "test_model2 = model.wetting_model(test_seg2)"
   ]
  },
  {
   "cell_type": "code",
   "execution_count": null,
   "metadata": {},
   "outputs": [],
   "source": []
  }
 ],
 "metadata": {
  "kernelspec": {
   "display_name": "base",
   "language": "python",
   "name": "python3"
  },
  "language_info": {
   "codemirror_mode": {
    "name": "ipython",
    "version": 3
   },
   "file_extension": ".py",
   "mimetype": "text/x-python",
   "name": "python",
   "nbconvert_exporter": "python",
   "pygments_lexer": "ipython3",
   "version": "3.9.15"
  },
  "orig_nbformat": 4,
  "vscode": {
   "interpreter": {
    "hash": "40d3a090f54c6569ab1632332b64b2c03c39dcf918b08424e98f38b5ae0af88f"
   }
  }
 },
 "nbformat": 4,
 "nbformat_minor": 2
}
